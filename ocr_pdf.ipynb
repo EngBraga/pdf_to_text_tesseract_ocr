{
 "cells": [
  {
   "cell_type": "markdown",
   "id": "20388d24",
   "metadata": {},
   "source": [
    "# Performing OCR in a PDF file in Portuguese"
   ]
  },
  {
   "cell_type": "markdown",
   "id": "0222b383",
   "metadata": {},
   "source": [
    "We are using pdf2image to convert the pdf file to a series of images, OpenCV to perform some preprocessing (turning the images to black and white, and Tesseract to perform the OCR and convert the images to text."
   ]
  },
  {
   "cell_type": "markdown",
   "id": "871c2ecd",
   "metadata": {},
   "source": [
    "## Importing and Configuration"
   ]
  },
  {
   "cell_type": "markdown",
   "id": "039b639a",
   "metadata": {},
   "source": [
    "Importing the necessary modules"
   ]
  },
  {
   "cell_type": "code",
   "execution_count": 1,
   "id": "229534af",
   "metadata": {},
   "outputs": [],
   "source": [
    "import cv2\n",
    "import pytesseract\n",
    "import numpy as np\n",
    "\n",
    "from pdf2image import convert_from_path"
   ]
  },
  {
   "cell_type": "markdown",
   "id": "831c8404",
   "metadata": {},
   "source": [
    "It is necessary to define the Tesseract instalation path"
   ]
  },
  {
   "cell_type": "code",
   "execution_count": 2,
   "id": "3eeed445",
   "metadata": {},
   "outputs": [],
   "source": [
    "pytesseract.pytesseract.tesseract_cmd = r'C:\\Users\\rodri\\AppData\\Local\\Programs\\Tesseract-OCR\\tesseract.exe'"
   ]
  },
  {
   "cell_type": "markdown",
   "id": "8bdc8b66",
   "metadata": {},
   "source": [
    "Configuration"
   ]
  },
  {
   "cell_type": "code",
   "execution_count": 3,
   "id": "36070acf",
   "metadata": {},
   "outputs": [],
   "source": [
    "# The pdf path can be either a web link or a file in the local disk\n",
    "# The dpi should make the OCR more assertive, but can make things way slower and uses much more memory\n",
    "pdf_path = \"https://www.ufrgs.br/colegiodeaplicacao/wp-content/uploads/2020/10/Edital03_monitoria.pdf\"\n",
    "conversion_dpi = 350\n",
    "\n",
    "# Here we are using the Portuguese Language in Tesseract. We must have it installed\n",
    "ocr_language = 'por'\n",
    "\n",
    "# We can use OpenCV to show the image that is feeding Tesseract, for testing purposes\n",
    "show_image = False\n",
    "image_scale = 0.4"
   ]
  },
  {
   "cell_type": "markdown",
   "id": "880770f1",
   "metadata": {},
   "source": [
    "## Helper Functions"
   ]
  },
  {
   "cell_type": "code",
   "execution_count": 4,
   "id": "1e8e54bc",
   "metadata": {},
   "outputs": [],
   "source": [
    "# Converts an image to black and white\n",
    "# Uses the OTSU's method to estimate the threshold\n",
    "def get_black_white_image(image):\n",
    "    # We first convert the image to gray and get a blurred version to filter for high frequency artifacts\n",
    "    gray = cv2.cvtColor(image, cv2.COLOR_BGR2GRAY)\n",
    "    blurred = cv2.GaussianBlur(gray, (7, 7), 0)\n",
    "    \n",
    "    # We then get the threshold with Otsu's Method\n",
    "    T, blur_thresh = cv2.threshold(blurred, 0, 255,\n",
    "            cv2.THRESH_BINARY | cv2.THRESH_OTSU)\n",
    "    # Finally we use the threshold on the grayscale image to get a BW image\n",
    "    discard, thresh = cv2.threshold(gray, T, 255, cv2.THRESH_BINARY)\n",
    "    return thresh"
   ]
  },
  {
   "cell_type": "code",
   "execution_count": 5,
   "id": "59fd8122",
   "metadata": {},
   "outputs": [],
   "source": [
    "# Show a OpenCV image window and optionally rescales it\n",
    "def show_scaled_image(image, scale = 1.0):\n",
    "    width = int(image.shape[1] * scale)\n",
    "    height = int(image.shape[0] * scale)\n",
    "    dim = (width, height)\n",
    "    \n",
    "    cv2.namedWindow('Image', cv2.WINDOW_NORMAL)\n",
    "    cv2.imshow(\"Image\", image)\n",
    "    cv2.resizeWindow('Image', dim)\n",
    "    cv2.waitKey(0)\n",
    "    cv2.destroyAllWindows()"
   ]
  },
  {
   "cell_type": "markdown",
   "id": "d5214244",
   "metadata": {},
   "source": [
    "## Performing the OCR"
   ]
  },
  {
   "cell_type": "markdown",
   "id": "d943a64b",
   "metadata": {},
   "source": [
    "Converting the pdf to images, and the images from PPM to numpy arrays"
   ]
  },
  {
   "cell_type": "code",
   "execution_count": 6,
   "id": "2d152bd5",
   "metadata": {},
   "outputs": [
    {
     "name": "stdout",
     "output_type": "stream",
     "text": [
      "Wall time: 12.8 s\n"
     ]
    }
   ],
   "source": [
    "%%time\n",
    "pages = convert_from_path(pdf_path, conversion_dpi)\n",
    "\n",
    "np_image_array = []\n",
    "\n",
    "for page in pages:\n",
    "    np_image_array.append(np.array(page))"
   ]
  },
  {
   "cell_type": "markdown",
   "id": "ff69f0a7",
   "metadata": {},
   "source": [
    "Using Tesseract to extract the text"
   ]
  },
  {
   "cell_type": "code",
   "execution_count": 7,
   "id": "b95bf369",
   "metadata": {},
   "outputs": [
    {
     "name": "stdout",
     "output_type": "stream",
     "text": [
      "Wall time: 5.44 s\n"
     ]
    }
   ],
   "source": [
    "%%time\n",
    "\n",
    "pages_text = []\n",
    "\n",
    "for np_image in np_image_array:    \n",
    "    # convert the image to black and white\n",
    "    bw_image = get_black_white_image(np_image)\n",
    "    \n",
    "    # pytesseract image to string to get results\n",
    "    text = str(pytesseract.image_to_string(bw_image, lang=ocr_language))\n",
    "    pages_text.append(text)\n",
    "    \n",
    "    if show_image:\n",
    "        show_scaled_image(np_image, image_scale)"
   ]
  },
  {
   "cell_type": "code",
   "execution_count": 8,
   "id": "9d6a87e2",
   "metadata": {},
   "outputs": [
    {
     "name": "stdout",
     "output_type": "stream",
     "text": [
      "SERVIÇO PÚBLICO FEDERAL\n",
      "\n",
      "o, Fhos UNIVERSIDADE FEDERAL DO RIO GRANDE DO SUL ob\n",
      "\n",
      "UNIVERMDADE FEDERAL\n",
      "\n",
      "BS NES GRANDE DO TOL COLÉGIO DE APLICAÇÃO\n",
      "\n",
      ". EDITAL Nº 03/2020\n",
      "SELEÇÃO PARA PROVIMENTO DE VAGAS REMANESCENTES\n",
      "DE MONITORIA ACADÊMICA DO COLÉGIO DE APLICAÇÃO\n",
      "\n",
      "O Colégio de Aplicação da Universidade Federal do Rio Grande do Sule a\n",
      "Pró-Reitoria de Graduação da UFRGS, no uso de suas atribuições, tornam público\n",
      "que estão abertas, no período de 15/10/2020 a 20/10/2020, as inscrições para o\n",
      "processo seletivo simplificado, que será regido pelas regras do presente Edital, para\n",
      "monitor de disciplinas na forma da legislação vigente, no Colégio de Aplicação.\n",
      "\n",
      "1. Das Disposições Gerais\n",
      "\n",
      "O Programa de Monitoria Acadêmica está em conformidade com o\n",
      "estabelecido no Decreto nº 8.862/81, complementado pelo artigo 84 da Lei nº 9.394\n",
      "de 20 de dezembro de 1996, e é regido pela Instrução Normativa 02/2008 de\n",
      "Monitoria Acadêmica — PROGRAD.\n",
      "\n",
      "As inscrições para as Bolsas de Monitoria Acadêmica Remunerada deverão ser feitas\n",
      "por estudantes de Graduação, preferencialmente Licenciatura da UFRGS\n",
      "regularmente matriculados a partir do 3º semestre.\n",
      "\n",
      "2. Das Inscrições\n",
      "\n",
      "As inscrições deverão ser realizadas EXCLUSIVAMENTE VIA INTERNET,\n",
      "por meio do envio da documentação exigida para o endereço eletrônico\n",
      "naecapQufrgs.br no período de 15/10/2020 a 20/10/2020.\n",
      "\n",
      "São exigidos os seguintes documentos (enviados em formato pdf):\n",
      "ETAPA 1:\n",
      "(1) Formulário-Requerimento de Cadastro de Monitor (a) disponível em:\n",
      "\n",
      "https://www.ufrgs.br/colegiodeaplicacao/wp-\n",
      "content/uploads/2020/02/Cadastro Inscri%CI%AT%CI%A3O Sele%WCI%AT%CI%AIO Monitoria-CAp.docx\n",
      "\n",
      "(2) Currículo simplificado em PDF;\n",
      "\n",
      "(3) Histórico da graduação na área pretendida em PDF.\n",
      "\n",
      "(4) Carteira de Identidade em PDF;\n",
      "\n",
      "(5) CPF em PDF (se constar na Carteira de Identidade já é o suficiente);\n",
      "\n",
      "| nº\n",
      "\n",
      "\n",
      "SERVIÇO PÚBLICO FEDERAL\n",
      "\n",
      "UFRGS UNIVERSIDADE FEDERAL DO RIO GRANDE DO SUL ab\n",
      "\n",
      "VUNIVERMDOADE PEDERAL\n",
      "\n",
      "BS TEN SRÂNDE DO TOL COLÉGIO DE APLICAÇÃO\n",
      "\n",
      "Os candidatos que cumprirem rigorosamente a Etapa 1, e ao serem\n",
      "selecionados receberão instruções por e-mail do processo seletivo balizado pelos\n",
      "dados fornecidos.\n",
      "\n",
      "3. Das Vagas\n",
      "\n",
      "O Programa de Monitoria Acadêmica oferece vagas, para o segundo\n",
      "semestre letivo de 2020, um total de 04 (quatro) vagas remanescentes para\n",
      "Monitoria Acadêmica do Colégio de Aplicação, distribuídas entre os diferentes\n",
      "Departamentos e Áreas do Conhecimento.\n",
      "\n",
      "4. Da Seleção\n",
      "\n",
      "A seleção dos candidatos se realizará nas áreas em que o (a) estudante de\n",
      "graduação realizará a monitoria, de acordo com os critérios especificados a seguir:\n",
      "\n",
      "4.1. INFORMÁTICA (EXPERIÊNCIA - CONHECIMENTO BÁSICO)\n",
      "\n",
      "Data da seleção: 21/10/2020.\n",
      "\n",
      "Modalidade da seleção: análise do histórico escolar e demais documentos da\n",
      "inscrição.\n",
      "\n",
      "Número de vagas: Monitoria remunerada — 02\n",
      "\n",
      "Critérios que serão avaliados na seleção: disponibilidade de horários, conhecimento\n",
      "específico da área, desenvoltura e análise do histórico.\n",
      "\n",
      "4.2. LÍNGUA ESTRANGEIRA - ESPANHOL\n",
      "\n",
      "Data da seleção: 21/10/2020.\n",
      "\n",
      "Modalidade da seleção: análise do histórico escolar e demais documentos da\n",
      "inscrição.\n",
      "\n",
      "Número de vagas: Monitoria remunerada — 01\n",
      "\n",
      "Critérios que serão avaliados na seleção: disponibilidade de horários, conhecimento\n",
      "específico da área, desenvoltura e análise do histórico.\n",
      "\n",
      "4.3. POLIVALÊNCIA- SÉRIES INICIAIS\n",
      "Data da seleção: 21/10/2020.\n",
      "Modalidade da seleção: análise do histórico escolar e demais documentos da\n",
      "\n",
      "inscrição.\n",
      "\n",
      "SERVIÇO PÚBLICO FEDERAL\n",
      "\n",
      "SN VENHO ARS ESS TO COLÉGIO DE APLICAÇÃO\n",
      "\n",
      "0, rÊos UNIVERSIDADE FEDERAL DO RIO GRANDE DO SUL o Lo\n",
      "\n",
      "Número de vagas: Monitoria remunerada - 01\n",
      "Critérios que serão avaliados na seleção: disponibilidade de horários, conhecimento\n",
      "específico da área, desenvoltura e análise do histórico.\n",
      "\n",
      "5. CARGA HORÁRIA\n",
      "\n",
      "Carga Horária: 20 horas semanais em atividades pertinentes ao Programa de\n",
      "Monitoria Acadêmica.\n",
      "\n",
      "6. Das Informações Gerais\n",
      "6.1. Cadastros retroativos não serão permitidos.\n",
      "\n",
      "6.2. O prazo máximo para cadastro de monitor é de 30 dias antes do término do\n",
      "semestre letivo, pois com menos de 30 dias de atividades o monitor não faz jus ao\n",
      "certificado.\n",
      "\n",
      "6.3. A conta do (a) monitor (a) deverá ser, OBRIGATORIAMENTE, do Banco do\n",
      "Brasil: pode ser universitária; deve ser corrente, individual.\n",
      "\n",
      "6.4. O pagamento será efetivado até o 10º dia útil do mês subsequente.\n",
      "\n",
      "6.5. Os pagamentos são proporcionais aos dias trabalhados, considerando as datas\n",
      "oficiais de início e término das atividades.\n",
      "\n",
      "7. CALENDÁRIO\n",
      "\n",
      "ATIVIDADES | \"DATA\n",
      "\n",
      "| 1) Inscrições dos candidatos Etapa 1 | 12h de 15/10/2020 às 23h59m de 20/10/2020\n",
      "\n",
      "2) Seleção dos Candidatos Etapa 2 |21/10/2020 a partir de análise da\n",
      "| documentação apresentada na inscrição\n",
      "\n",
      "(3) Início “previsto” das atividades de\n",
      "'monitoria | 26/10/2020\n",
      "\n",
      "|\n",
      "\n",
      "4) Término previsto das atividades de 0211 2/2020\n",
      "monitoria |\n",
      "\n",
      "y\n",
      "\n",
      "SERVIÇO PÚBLICO FEDERAL\n",
      "\n",
      "UrRGS UNIVERSIDADE FEDERAL DO RIO GRANDE DO SUL\n",
      "\n",
      "VNIVENHMDADE FEDERAL\n",
      "\n",
      "ESP RAND DS SOL COLÉGIO DE APLICAÇÃO\n",
      "\n",
      "8. DISPOSIÇÕES FINAIS\n",
      "\n",
      "Este Edital rege todas as seleções para o Programa de Monitoria\n",
      "Acadêmica da Universidade Federal do Rio Grande do Sul para o ano de 2020/2 no\n",
      "Colégio de Aplicação da Universidade Federal do Rio Grande do Sul.\n",
      "\n",
      "As substituições de monitores durante o semestre, decorrente de\n",
      "desistências, substituições, e ou outros deverão ser preenchidas pelos suplentes\n",
      "citados na Ata do Processo de Seleção (Especificamente no-do dia 21/10/2020), ao\n",
      "fim destes em novo Edital-Complementar, confeccionado pelo Colégio de Aplicação,\n",
      "observando sempre o presente Edital, e a Instrução Normativa vigente.\n",
      "\n",
      "O início das atividades de monitoria ocorre somente a partir da data\n",
      "constante no Edital, e após assinatura, do Termo de Compromisso.\n",
      "\n",
      "O (a) acadêmico (a), se desligado do Programa de Monitoria, perde\n",
      "imediatamente o auxílio a que tinha direito, não ficando impedido de candidatar-se\n",
      "novamente a outro Edital de Monitoria.\n",
      "\n",
      "Os casos omissos serão resolvidos pela Pró-Reitoria de Graduação.\n",
      "\n",
      "Porto Alegre, 15 de outubro de 2020.\n",
      "\n",
      "RAFAEL VASQU RANDÃO,\n",
      "Diretor Colégio de Aplicação/UFRGS.\n",
      "\n",
      "Rate! Vasques Brandão\n",
      "nivet.s: 16 Colégio de igpicação\n",
      "\n",
      "1:ERGS\n",
      "\n"
     ]
    }
   ],
   "source": [
    "for text in pages_text:\n",
    "    print(text)"
   ]
  }
 ],
 "metadata": {
  "kernelspec": {
   "display_name": "Python 3 (ipykernel)",
   "language": "python",
   "name": "python3"
  },
  "language_info": {
   "codemirror_mode": {
    "name": "ipython",
    "version": 3
   },
   "file_extension": ".py",
   "mimetype": "text/x-python",
   "name": "python",
   "nbconvert_exporter": "python",
   "pygments_lexer": "ipython3",
   "version": "3.9.7"
  }
 },
 "nbformat": 4,
 "nbformat_minor": 5
}
